{
  "nbformat": 4,
  "nbformat_minor": 0,
  "metadata": {
    "colab": {
      "name": "Prerequisites.ipynb",
      "provenance": [],
      "collapsed_sections": [],
      "authorship_tag": "ABX9TyM3m4vAH84XQXfWIgpyd5V5",
      "include_colab_link": true
    },
    "kernelspec": {
      "name": "python3",
      "display_name": "Python 3"
    },
    "language_info": {
      "name": "python"
    }
  },
  "cells": [
    {
      "cell_type": "markdown",
      "metadata": {
        "id": "view-in-github",
        "colab_type": "text"
      },
      "source": [
        "<a href=\"https://colab.research.google.com/github/naksh-atra/Theory/blob/main/Prerequisites.ipynb\" target=\"_parent\"><img src=\"https://colab.research.google.com/assets/colab-badge.svg\" alt=\"Open In Colab\"/></a>"
      ]
    },
    {
      "cell_type": "markdown",
      "source": [
        "according to me"
      ],
      "metadata": {
        "id": "O3yfhBqpwdL4"
      }
    },
    {
      "cell_type": "markdown",
      "source": [
        "# Prerequisites"
      ],
      "metadata": {
        "id": "Q2pC38ZtwKl5"
      }
    },
    {
      "cell_type": "code",
      "source": [
        "Things to learn:-\n",
        "1. Python\n",
        "2. You must be comfortable with variables, linear equations, graphs of functions, histograms, and statistical means.\n",
        "3. Algebra\n",
        "4. Linear Algerba\n",
        "5. Trigonometry\n",
        "6. Statistics\n",
        "7. Calculus\n",
        "8. Bash terminal"
      ],
      "metadata": {
        "id": "lTAZTllJwMds"
      },
      "execution_count": null,
      "outputs": []
    },
    {
      "cell_type": "markdown",
      "source": [
        ""
      ],
      "metadata": {
        "id": "wAmaBNUpwbSS"
      }
    }
  ]
}
