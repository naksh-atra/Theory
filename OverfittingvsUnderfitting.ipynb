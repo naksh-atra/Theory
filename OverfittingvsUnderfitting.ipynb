{
  "nbformat": 4,
  "nbformat_minor": 0,
  "metadata": {
    "colab": {
      "name": "OverfittingvsUnderfitting.ipynb",
      "provenance": [],
      "authorship_tag": "ABX9TyOQI3duVFiPxmtdTIAi4vHc",
      "include_colab_link": true
    },
    "kernelspec": {
      "name": "python3",
      "display_name": "Python 3"
    },
    "language_info": {
      "name": "python"
    }
  },
  "cells": [
    {
      "cell_type": "markdown",
      "metadata": {
        "id": "view-in-github",
        "colab_type": "text"
      },
      "source": [
        "<a href=\"https://colab.research.google.com/github/naksh-atra/Theory/blob/main/OverfittingvsUnderfitting.ipynb\" target=\"_parent\"><img src=\"https://colab.research.google.com/assets/colab-badge.svg\" alt=\"Open In Colab\"/></a>"
      ]
    },
    {
      "cell_type": "code",
      "execution_count": null,
      "metadata": {
        "id": "c40ShY0pPWRU"
      },
      "outputs": [],
      "source": [
        ""
      ]
    },
    {
      "cell_type": "markdown",
      "source": [
        "# ML | Underfitting and Overfitting\n",
        "When we talk about the Machine Learning model, we actually talk about how well it performs and its accuracy which is known as prediction errors.  Let us consider that we are designing a machine learning model. A model is said to be a good machine learning model if it generalizes any new input data from the problem domain in a proper way. This helps us to make predictions about future data, that the data model has never seen. Now, suppose we want to check how well our machine learning model learns and generalizes to the new data. For that, we have overfitting and underfitting, which are majorly responsible for the poor performances of the machine learning algorithms.\n",
        "\n",
        "Before diving further let’s understand two important terms:\n",
        "\n",
        "1. Bias: Assumptions made by a model to make a function easier to learn. It is actually the error rate of the training data. When the error rate has a high value, we call it High Bias and when the error rate has a low value, we call it low Bias.\n",
        "2. Variance:  The difference between the error rate of training data and testing data is called variance. If the difference is high then it’s called high variance and when the difference of errors is low then it’s called low variance. Usually, we want to make a low variance for generalized our model.\n",
        "\n",
        "# Underfitting: \n",
        "A statistical model or a machine learning algorithm is said to have underfitting when it cannot capture the underlying trend of the data, i.e., it only performs well on training data but performs poorly on testing data. (It’s just like trying to fit undersized pants!) Underfitting destroys the accuracy of our machine learning model. Its occurrence simply means that our model or the algorithm does not fit the data well enough. It usually happens when we have fewer data to build an accurate model and also when we try to build a linear model with fewer non-linear data. In such cases, the rules of the machine learning model are too easy and flexible to be applied to such minimal data and therefore the model will probably make a lot of wrong predictions. Underfitting can be avoided by using more data and also reducing the features by feature selection. \n",
        "\n",
        "In a nutshell, Underfitting refers to a model that can neither performs well on the training data nor generalize to new data. \n",
        "\n",
        "# Reasons for Underfitting:\n",
        "\n",
        "1. High bias and low variance \n",
        "2. The size of the training dataset used is not enough.\n",
        "3. The model is too simple.\n",
        "4. Training data is not cleaned and also contains noise in it.\n",
        "\n",
        "# Techniques to reduce underfitting: \n",
        "\n",
        "1. Increase model complexity\n",
        "2. Increase the number of features, performing feature engineering\n",
        "3. Remove noise from the data.\n",
        "4. Increase the number of epochs or increase the duration of training to get\n",
        "better results.\n",
        "\n",
        "# Overfitting: \n",
        "A statistical model is said to be overfitted when the model does not make accurate predictions on testing data. When a model gets trained with so much data, it starts learning from the noise and inaccurate data entries in our data set. And when testing with test data results in High variance. Then the model does not categorize the data correctly, because of too many details and noise. The causes of overfitting are the non-parametric and non-linear methods because these types of machine learning algorithms have more freedom in building the model based on the dataset and therefore they can really build unrealistic models. A solution to avoid overfitting is using a linear algorithm if we have linear data or using the parameters like the maximal depth if we are using decision trees. \n",
        "\n",
        "In a nutshell, Overfitting is a problem where the evaluation of machine learning algorithms on training data is different from unseen data.\n",
        "\n",
        "# Reasons for Overfitting are as follows:\n",
        "\n",
        "1. High variance and low bias \n",
        "2. The model is too complex\n",
        "3. The size of the training data \n",
        "4. Techniques to reduce overfitting:\n",
        "\n",
        "# Increase training data.\n",
        "\n",
        "1. Reduce model complexity.\n",
        "2. Early stopping during the training phase (have an eye over the loss over the training period as soon as loss begins to increase stop training).\n",
        "3. Ridge Regularization and Lasso Regularization\n",
        "4. Use dropout for neural networks to tackle overfitting."
      ],
      "metadata": {
        "id": "bHbIKPG6PaId"
      }
    }
  ]
}