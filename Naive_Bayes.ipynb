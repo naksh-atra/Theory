{
  "nbformat": 4,
  "nbformat_minor": 0,
  "metadata": {
    "colab": {
      "name": "Naive_Bayes.ipynb",
      "provenance": [],
      "collapsed_sections": [],
      "authorship_tag": "ABX9TyNdofKlMOh11Y3ZCE6pyYmq",
      "include_colab_link": true
    },
    "kernelspec": {
      "name": "python3",
      "display_name": "Python 3"
    },
    "language_info": {
      "name": "python"
    }
  },
  "cells": [
    {
      "cell_type": "markdown",
      "metadata": {
        "id": "view-in-github",
        "colab_type": "text"
      },
      "source": [
        "<a href=\"https://colab.research.google.com/github/naksh-atra/Theory/blob/main/Naive_Bayes.ipynb\" target=\"_parent\"><img src=\"https://colab.research.google.com/assets/colab-badge.svg\" alt=\"Open In Colab\"/></a>"
      ]
    },
    {
      "cell_type": "code",
      "execution_count": null,
      "metadata": {
        "id": "3nU5Kr4XIFOF"
      },
      "outputs": [],
      "source": [
        "Naive Bayes Classifiers\n",
        "\n",
        "Naive Bayes classifiers are a collection of classification algorithms based on Bayes’ Theorem. It is not a single algorithm but a family of algorithms where all of them share a common principle, i.e. every pair of features being classified is independent of each other.\n",
        "\n",
        "\n",
        "Replay\n",
        "\n",
        "Unmute\n",
        "Remaining Time-0:00\n",
        "1x\n",
        "Playback Rate\n",
        "\n",
        "Captions\n",
        "\n",
        "\n",
        "Picture-in-Picture\n",
        "\n",
        "Fullscreen\n",
        "To start with, let us consider a dataset.\n",
        "\n",
        "Consider a fictional dataset that describes the weather conditions for playing a game of golf. Given the weather conditions, each tuple classifies the conditions as fit(“Yes”) or unfit(“No”) for playing golf.\n",
        "\n",
        "Here is a tabular representation of our dataset."
      ]
    }
  ]
}