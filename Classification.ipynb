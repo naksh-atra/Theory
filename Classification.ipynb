{
  "nbformat": 4,
  "nbformat_minor": 0,
  "metadata": {
    "colab": {
      "provenance": [],
      "collapsed_sections": [],
      "authorship_tag": "ABX9TyMLj6N7TV8wV3Pqoy1eWvt5",
      "include_colab_link": true
    },
    "kernelspec": {
      "name": "python3",
      "display_name": "Python 3"
    },
    "language_info": {
      "name": "python"
    }
  },
  "cells": [
    {
      "cell_type": "markdown",
      "metadata": {
        "id": "view-in-github",
        "colab_type": "text"
      },
      "source": [
        "<a href=\"https://colab.research.google.com/github/naksh-atra/Theory/blob/main/Classification.ipynb\" target=\"_parent\"><img src=\"https://colab.research.google.com/assets/colab-badge.svg\" alt=\"Open In Colab\"/></a>"
      ]
    },
    {
      "cell_type": "markdown",
      "source": [
        "# Classification\n",
        "\n",
        "1. Logistic regression\n",
        "2. Naive bayes\n",
        "3. K=Nearest neighbor\n",
        "4. Decision Tree\n",
        "5. Support Vector Machine\n",
        "\n",
        "\n",
        "Logistic regression is basically a supervised classification algorithm. In a classification problem, the target variable(or output), y, can take only discrete values for a given set of features(or inputs), X.\n"
        "Contrary to popular belief, logistic regression is a regression model. The model builds a regression model to predict the probability that a given data entry belongs to the category numbered as “1”. Just like Linear regression assumes that the data follows a linear function, Logistic regression models the data using the sigmoid function.\n",
        "Logistic Rgession is a supervised classification algorithm. It is a regression model. Builds a regression model to predict the probablity that a given data entry belongs to the catergory numbered as '1'. Data is modelled using the sigmoid function, F(x)= 1/(1+e^-z).\n",
        "It only becomes a classification technique when a decision threshold is broight into picture. The value of threshold is majorly affected by the values of precision and recall (Ideally, both =1).\n",
        "in a tradeoff:-\n",
        "1. Low Precision/ High Recall: \n"
      ],
      "metadata": {
        "id": "S-mrGudEpURp"
      }
    }
  ]
}
