{
  "nbformat": 4,
  "nbformat_minor": 0,
  "metadata": {
    "colab": {
      "name": "Machine_Learning.ipynb",
      "provenance": [],
      "collapsed_sections": [],
      "authorship_tag": "ABX9TyNjmwzhlxJMQKjDguDuy9zN",
      "include_colab_link": true
    },
    "kernelspec": {
      "name": "python3",
      "display_name": "Python 3"
    },
    "language_info": {
      "name": "python"
    }
  },
  "cells": [
    {
      "cell_type": "markdown",
      "metadata": {
        "id": "view-in-github",
        "colab_type": "text"
      },
      "source": [
        "<a href=\"https://colab.research.google.com/github/naksh-atra/Theory/blob/main/Machine_Learning.ipynb\" target=\"_parent\"><img src=\"https://colab.research.google.com/assets/colab-badge.svg\" alt=\"Open In Colab\"/></a>"
      ]
    },
    {
      "cell_type": "code",
      "execution_count": null,
      "metadata": {
        "id": "uOnFYK86lOl6"
      },
      "outputs": [],
      "source": [
        ""
      ]
    },
    {
      "cell_type": "markdown",
      "source": [
        "# machine learning\n",
        "Machine learning is a field in computer science which focuses on the use of data and algorithms to imitate the way that humans learn, gradually improving its accuracy through model evaluation.\n",
        "\n",
        "Machine learning is an important component of the growing field of data science. Through the use of statistical methods, algorithms are trained to make classifications or predictions, and to uncover key insights in data mining projects. These insights subsequently drive decision making within applications and businesses, ideally impacting key growth metrics.\n",
        "\n",
        "# Types of ML\n",
        "\n",
        "1. Supervised\n",
        "2. Unsupervised\n",
        "3. Reinforcement\n",
        "\n",
        "# Machine Learning\n",
        "Machine learning is a field in computer science which focuses on the use of data and algorithms to imitate the way that humans learn, gradually improving its accuracy through model evaluation.\n",
        "\n",
        "Machine learning is an important component of the growing field of data science. Through the use of statistical methods, algorithms are trained to make classifications or predictions, and to uncover key insights in data mining projects. These insights subsequently drive decision making within applications and businesses, ideally impacting key growth metrics.\n",
        "\n",
        "# Types of ML\n",
        "\n",
        "1. Supervised\n",
        "2. Unsupervised\n",
        "3. Reinforcement\n",
        "\n",
        "\n",
        "# 1. Supervised\n",
        "Supervised learning is when the model is getting trained on a labelled dataset. A labelled dataset is one that has both input and output parameters. In this type of learning both training and validation, datasets are labelled as shown in the figures below. \n",
        "\n",
        "Types of Supervised Learning:  \n",
        "A. Classification: It is a Supervised Learning task where output is having defined labels(discrete value). For example in above Figure A, Output – Purchased has defined labels i.e. 0 or 1; 1 means the customer will purchase, and 0 means that the customer won’t purchase. The goal here is to predict discrete values belonging to a particular class and evaluate them on the basis of accuracy. \n",
        "It can be either binary or multi-class classification. In binary classification, the model predicts either 0 or 1; yes or no but in the case of multi-class classification, the model predicts more than one class. Example: Gmail classifies mails in more than one class like social, promotions, updates, and forums.\n",
        "\n",
        "B. Regression: It is a Supervised Learning task where output is having continuous value. \n",
        "For example in above Figure B, Output – Wind Speed is not having any discrete value but is continuous in a particular range. The goal here is to predict a value as much closer to the actual output value as our model can and then evaluation is done by calculating the error value. The smaller the error the greater the accuracy of our regression model.\n",
        "\n",
        "Example of Supervised Learning Algorithms:  \n",
        "\n",
        "Linear Regression\n",
        "Logistic Regression\n",
        "Nearest Neighbor\n",
        "Gaussian Naive Bayes\n",
        "Decision Trees\n",
        "Support Vector Machine (SVM)\n",
        "Random Forest"
      ],
      "metadata": {
        "id": "itckdwVplP8k"
      }
    }
  ]
}
